{
 "cells": [
  {
   "cell_type": "markdown",
   "metadata": {},
   "source": [
    "Upgrade python package `requests`."
   ]
  },
  {
   "cell_type": "code",
   "execution_count": null,
   "metadata": {
    "collapsed": true
   },
   "outputs": [],
   "source": [
    "!pip install google-cloud requests keras tensorflow"
   ]
  },
  {
   "cell_type": "markdown",
   "metadata": {},
   "source": [
    "Import python packages."
   ]
  },
  {
   "cell_type": "code",
   "execution_count": null,
   "metadata": {
    "collapsed": true
   },
   "outputs": [],
   "source": [
    "# Imports the Google Cloud client library\n",
    "from google.cloud import storage\n",
    "from google.oauth2 import service_account\n",
    "\n",
    "from google.cloud.exceptions import NotFound\n",
    "\n",
    "# Inline display image\n",
    "from IPython.display import Image, display\n",
    "\n",
    "# Imports Keras packages and model\n",
    "import numpy as np\n",
    "from keras.preprocessing import image\n",
    "from keras.applications.inception_v3 import InceptionV3\n",
    "from keras.applications.inception_v3 import preprocess_input, decode_predictions\n"
   ]
  },
  {
   "cell_type": "markdown",
   "metadata": {},
   "source": [
    "Update global setting to fit into your private environments."
   ]
  },
  {
   "cell_type": "code",
   "execution_count": null,
   "metadata": {
    "collapsed": true
   },
   "outputs": [],
   "source": [
    "# Credential JSON file\n",
    "CREDENTIALS_JSON='./datalab-trial-71072497752e.json'\n",
    "# GCP project id\n",
    "PROJECT_ID='datalab-trial-186403'\n",
    "# Bucket name of Cloud Storage\n",
    "GCS_BUCKET_NAME='game_ml_training_pics_10k'"
   ]
  },
  {
   "cell_type": "code",
   "execution_count": null,
   "metadata": {
    "collapsed": true
   },
   "outputs": [],
   "source": [
    "# Credentials for GCP\n",
    "credentials = service_account.Credentials.from_service_account_file(CREDENTIALS_JSON)\n",
    "\n",
    "# Instantiates a cloud storage client\n",
    "storage_client = storage.Client(project=PROJECT_ID, credentials=credentials)\n",
    "\n",
    "def show_blob(blob):\n",
    "    blob.download_to_filename('/tmp/blob.jpeg')\n",
    "    display(Image(filename='/tmp/blob.jpeg'))\n",
    "\n",
    "    \n",
    "def predict(blob):\n",
    "    model = InceptionV3(weights='imagenet')\n",
    "\n",
    "    # Make input data from Jpeg file\n",
    "    img_path = '/tmp/blob.jpeg'\n",
    "    blob.download_to_filename(img_path)\n",
    "    img = image.load_img(img_path, target_size=(299, 299))\n",
    "    x = image.img_to_array(img)\n",
    "    x = np.expand_dims(x, axis=0)\n",
    "    x = preprocess_input(x)\n",
    "\n",
    "    # Classify image\n",
    "    preds = model.predict(x)\n",
    "\n",
    "    # Print predicted classes\n",
    "    print('Predicted:')\n",
    "    for p in decode_predictions(preds, top=5)[0]:\n",
    "        print(\"Score {}, Label {}\".format(p[2], p[1]))    \n",
    "\n",
    "\n",
    "if __name__ == '__main__':\n",
    "    # check bucket availability\n",
    "    try:\n",
    "        bucket = storage_client.get_bucket(GCS_BUCKET_NAME)\n",
    "    except NotFound:\n",
    "        print('Sorry, the bucket {} does not exist!'.format(GCS_BUCKET_NAME))\n",
    "    \n",
    "    # iterate files in the bucket\n",
    "    for f in bucket.list_blobs():\n",
    "        show_blob(f)\n",
    "        predict(f)\n",
    "        break\n",
    "\n",
    "        "
   ]
  },
  {
   "cell_type": "code",
   "execution_count": null,
   "metadata": {
    "collapsed": true
   },
   "outputs": [],
   "source": []
  }
 ],
 "metadata": {
  "kernelspec": {
   "display_name": "Python 3",
   "language": "python",
   "name": "python3"
  },
  "language_info": {
   "codemirror_mode": {
    "name": "ipython",
    "version": 3
   },
   "file_extension": ".py",
   "mimetype": "text/x-python",
   "name": "python",
   "nbconvert_exporter": "python",
   "pygments_lexer": "ipython3",
   "version": "3.5.0"
  }
 },
 "nbformat": 4,
 "nbformat_minor": 2
}
